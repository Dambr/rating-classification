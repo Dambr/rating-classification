{
 "cells": [
  {
   "cell_type": "code",
   "execution_count": 1,
   "metadata": {
    "scrolled": true
   },
   "outputs": [],
   "source": [
    "from tensorflow.keras.models import Sequential\n",
    "from tensorflow.keras.layers import Dense, Embedding, MaxPooling1D, Conv1D, GlobalMaxPooling1D, Dropout\n",
    "from tensorflow.keras import utils\n",
    "from tensorflow.keras.preprocessing.sequence import pad_sequences\n",
    "from tensorflow.keras.preprocessing.text import Tokenizer\n",
    "from tensorflow.keras.callbacks import ModelCheckpoint\n",
    "import pandas as pd\n",
    "import numpy as np\n",
    "import matplotlib.pyplot as plt\n",
    "from os import listdir\n",
    "from os import path\n",
    "import pickle"
   ]
  },
  {
   "cell_type": "code",
   "execution_count": 2,
   "metadata": {},
   "outputs": [],
   "source": [
    "# Максимальное количество слов \n",
    "num_words = 10000\n",
    "# Максимальная длина новости\n",
    "max_news_len = 100"
   ]
  },
  {
   "cell_type": "code",
   "execution_count": 3,
   "metadata": {},
   "outputs": [],
   "source": [
    "def put_content(files, directory):\n",
    "    for file_name in files:\n",
    "        ids.append(int(file_name.replace(\".txt\", \"\").split(\"_\")[0]))\n",
    "        grades.append(0 if int(file_name.replace(\".txt\", \"\").split(\"_\")[1]) < 5 else 1)\n",
    "        texts.append(open(path.join(directory, file_name), 'r').read())"
   ]
  },
  {
   "cell_type": "code",
   "execution_count": 4,
   "metadata": {},
   "outputs": [],
   "source": [
    "# Подготовка тренировочного набора\n",
    "ids = []\n",
    "grades = []\n",
    "texts = []\n",
    "\n",
    "train_neg_dir = \"aclImdb/train/neg\"\n",
    "train_pos_dir = \"aclImdb/train/pos\"\n",
    "\n",
    "train_neg_files = list(filter(lambda x: x.endswith('.txt'), listdir(train_neg_dir)))\n",
    "train_pos_files = list(filter(lambda x: x.endswith('.txt'), listdir(train_pos_dir)))\n",
    "\n",
    "put_content(train_neg_files, train_neg_dir)\n",
    "put_content(train_pos_files, train_pos_dir)\n",
    "\n",
    "train_df = pd.DataFrame({\n",
    "    'id': ids,\n",
    "    'grade': grades,\n",
    "    'text': texts\n",
    "})\n",
    "\n",
    "train_df = train_df.iloc[np.random.permutation(len(train_df))].reset_index(drop=True)"
   ]
  },
  {
   "cell_type": "code",
   "execution_count": 5,
   "metadata": {},
   "outputs": [],
   "source": [
    "# Подготовка тестового набора\n",
    "ids = []\n",
    "grades = []\n",
    "texts = []\n",
    "\n",
    "test_neg_dir = \"aclImdb/test/neg\"\n",
    "test_pos_dir = \"aclImdb/test/pos\"\n",
    "\n",
    "test_neg_files = list(filter(lambda x: x.endswith('.txt'), listdir(test_neg_dir)))\n",
    "test_pos_files = list(filter(lambda x: x.endswith('.txt'), listdir(test_pos_dir)))\n",
    "\n",
    "put_content(test_neg_files, test_neg_dir)\n",
    "put_content(test_pos_files, test_pos_dir)\n",
    "\n",
    "test_df = pd.DataFrame({\n",
    "    'id': ids,\n",
    "    'grade': grades,\n",
    "    'text': texts\n",
    "})\n",
    "\n",
    "test_df = test_df.iloc[np.random.permutation(len(test_df))].reset_index(drop=True)"
   ]
  },
  {
   "cell_type": "code",
   "execution_count": 6,
   "metadata": {},
   "outputs": [],
   "source": [
    "# Создание токенайзера\n",
    "tokenizer = Tokenizer(num_words=num_words)"
   ]
  },
  {
   "cell_type": "code",
   "execution_count": 7,
   "metadata": {},
   "outputs": [],
   "source": [
    "# Тренировка токенайзера\n",
    "tokenizer.fit_on_texts(train_df['text'])"
   ]
  },
  {
   "cell_type": "code",
   "execution_count": 8,
   "metadata": {},
   "outputs": [],
   "source": [
    "# Сохранение токенайзера\n",
    "with open('tokenizer.pickle', 'wb') as handle:\n",
    "    pickle.dump(tokenizer, handle, protocol=pickle.HIGHEST_PROTOCOL)"
   ]
  },
  {
   "cell_type": "code",
   "execution_count": 9,
   "metadata": {},
   "outputs": [],
   "source": [
    "# Преобразование текста в последовательности чисел\n",
    "sequences = tokenizer.texts_to_sequences(train_df['text'])"
   ]
  },
  {
   "cell_type": "code",
   "execution_count": 10,
   "metadata": {},
   "outputs": [],
   "source": [
    "# Ограничить длину отзыва\n",
    "x_train = pad_sequences(sequences, maxlen=max_news_len)"
   ]
  },
  {
   "cell_type": "code",
   "execution_count": 11,
   "metadata": {},
   "outputs": [],
   "source": [
    "# Сверточная нейронная сеть"
   ]
  },
  {
   "cell_type": "code",
   "execution_count": 12,
   "metadata": {},
   "outputs": [],
   "source": [
    "# Создание самой модели\n",
    "model = Sequential()\n",
    "model.add(Embedding(num_words, 32, input_length=max_news_len))\n",
    "model.add(Conv1D(250, 5, padding='valid', activation='relu'))\n",
    "model.add(Conv1D(250, 5, padding='valid', activation='relu'))\n",
    "model.add(Conv1D(250, 5, padding='valid', activation='relu'))\n",
    "model.add(Conv1D(250, 5, padding='valid', activation='relu'))\n",
    "model.add(GlobalMaxPooling1D())\n",
    "model.add(Dense(128, activation='relu'))\n",
    "model.add(Dense(1, activation='sigmoid'))"
   ]
  },
  {
   "cell_type": "code",
   "execution_count": 14,
   "metadata": {},
   "outputs": [
    {
     "name": "stdout",
     "output_type": "stream",
     "text": [
      "Model: \"sequential\"\n",
      "_________________________________________________________________\n",
      "Layer (type)                 Output Shape              Param #   \n",
      "=================================================================\n",
      "embedding (Embedding)        (None, 100, 32)           320000    \n",
      "_________________________________________________________________\n",
      "conv1d (Conv1D)              (None, 96, 250)           40250     \n",
      "_________________________________________________________________\n",
      "conv1d_1 (Conv1D)            (None, 92, 250)           312750    \n",
      "_________________________________________________________________\n",
      "conv1d_2 (Conv1D)            (None, 88, 250)           312750    \n",
      "_________________________________________________________________\n",
      "conv1d_3 (Conv1D)            (None, 84, 250)           312750    \n",
      "_________________________________________________________________\n",
      "global_max_pooling1d (Global (None, 250)               0         \n",
      "_________________________________________________________________\n",
      "dense (Dense)                (None, 128)               32128     \n",
      "_________________________________________________________________\n",
      "dense_1 (Dense)              (None, 1)                 129       \n",
      "=================================================================\n",
      "Total params: 1,330,757\n",
      "Trainable params: 1,330,757\n",
      "Non-trainable params: 0\n",
      "_________________________________________________________________\n"
     ]
    }
   ],
   "source": [
    "# Компиляция модели\n",
    "model.compile(optimizer='adam', \n",
    "              loss='binary_crossentropy', \n",
    "              metrics=['accuracy'])\n",
    "model.summary()"
   ]
  },
  {
   "cell_type": "code",
   "execution_count": 16,
   "metadata": {},
   "outputs": [
    {
     "name": "stdout",
     "output_type": "stream",
     "text": [
      "WARNING:tensorflow:From /Library/Frameworks/Python.framework/Versions/3.7/lib/python3.7/site-packages/tensorflow/python/ops/resource_variable_ops.py:1817: calling BaseResourceVariable.__init__ (from tensorflow.python.ops.resource_variable_ops) with constraint is deprecated and will be removed in a future version.\n",
      "Instructions for updating:\n",
      "If using Keras pass *_constraint arguments to layers.\n",
      "INFO:tensorflow:Assets written to: model_binary/assets\n"
     ]
    }
   ],
   "source": [
    "# Сохренение модели\n",
    "model.save('model_binary')"
   ]
  },
  {
   "cell_type": "code",
   "execution_count": 19,
   "metadata": {},
   "outputs": [],
   "source": [
    "# Создаем callback для сохранения нейронной сети на каждой эпохе,\n",
    "    # если качество работы на проверочном наборе данных улучшилось.\n",
    "# Сеть сохраняется в файл best_model.h5\n",
    "model_binary_save_path = 'best_model_binary.h5'\n",
    "checkpoint_callback = ModelCheckpoint(model_binary_save_path, \n",
    "                                      monitor='val_accuracy',\n",
    "                                      save_best_only=True,\n",
    "                                      verbose=1)"
   ]
  },
  {
   "cell_type": "code",
   "execution_count": 20,
   "metadata": {},
   "outputs": [],
   "source": [
    "# Правильные ответы\n",
    "y_train = train_df['grade']"
   ]
  },
  {
   "cell_type": "code",
   "execution_count": 22,
   "metadata": {},
   "outputs": [
    {
     "name": "stdout",
     "output_type": "stream",
     "text": [
      "Epoch 1/3\n",
      "176/176 [==============================] - ETA: 0s - loss: 0.5663 - accuracy: 0.6692\n",
      "Epoch 00001: val_accuracy improved from -inf to 0.78960, saving model to best_model_binary.h5\n",
      "176/176 [==============================] - 160s 909ms/step - loss: 0.5663 - accuracy: 0.6692 - val_loss: 0.4567 - val_accuracy: 0.7896\n",
      "Epoch 2/3\n",
      "176/176 [==============================] - ETA: 0s - loss: 0.3349 - accuracy: 0.8561\n",
      "Epoch 00002: val_accuracy improved from 0.78960 to 0.83240, saving model to best_model_binary.h5\n",
      "176/176 [==============================] - 159s 901ms/step - loss: 0.3349 - accuracy: 0.8561 - val_loss: 0.3857 - val_accuracy: 0.8324\n",
      "Epoch 3/3\n",
      "176/176 [==============================] - ETA: 0s - loss: 0.2350 - accuracy: 0.9081\n",
      "Epoch 00003: val_accuracy improved from 0.83240 to 0.83400, saving model to best_model_binary.h5\n",
      "176/176 [==============================] - 158s 896ms/step - loss: 0.2350 - accuracy: 0.9081 - val_loss: 0.3973 - val_accuracy: 0.8340\n"
     ]
    }
   ],
   "source": [
    "history = model.fit(x_train, \n",
    "                            y_train, \n",
    "                            epochs=3,\n",
    "                            batch_size=128,\n",
    "                            validation_split=0.1,\n",
    "                            callbacks=[checkpoint_callback])"
   ]
  },
  {
   "cell_type": "code",
   "execution_count": 23,
   "metadata": {},
   "outputs": [
    {
     "data": {
      "image/png": "[encoded data removed]",
      "text/plain": [
       "<Figure size 432x288 with 1 Axes>"
      ]
     },
     "metadata": {
      "needs_background": "light"
     },
     "output_type": "display_data"
    }
   ],
   "source": [
    "plt.plot(history.history['accuracy'], \n",
    "         label='Доля верных ответов на обучающем наборе')\n",
    "plt.plot(history.history['val_accuracy'], \n",
    "         label='Доля верных ответов на проверочном наборе')\n",
    "plt.xlabel('Эпоха обучения')\n",
    "plt.ylabel('Доля верных ответов')\n",
    "plt.legend()\n",
    "plt.show()"
   ]
  },
  {
   "cell_type": "code",
   "execution_count": 24,
   "metadata": {},
   "outputs": [],
   "source": [
    "# Тестирование работы"
   ]
  },
  {
   "cell_type": "code",
   "execution_count": 25,
   "metadata": {},
   "outputs": [],
   "source": [
    "test_sequences = tokenizer.texts_to_sequences(test_df['text'])"
   ]
  },
  {
   "cell_type": "code",
   "execution_count": 26,
   "metadata": {},
   "outputs": [],
   "source": [
    "x_test = pad_sequences(test_sequences, maxlen=max_news_len)"
   ]
  },
  {
   "cell_type": "code",
   "execution_count": 27,
   "metadata": {},
   "outputs": [],
   "source": [
    "# Правильные ответы на тестовом наборе\n",
    "y_test = test_df['grade']"
   ]
  },
  {
   "cell_type": "code",
   "execution_count": 28,
   "metadata": {},
   "outputs": [],
   "source": [
    "# Качество Одномерная сверточная сеть"
   ]
  },
  {
   "cell_type": "code",
   "execution_count": 30,
   "metadata": {},
   "outputs": [],
   "source": [
    "from tensorflow import keras\n",
    "model_binary = keras.models.load_model('model_binary')\n",
    "model_binary_save_path = 'best_model_binary.h5'\n",
    "model_binary.load_weights(model_binary_save_path)"
   ]
  },
  {
   "cell_type": "code",
   "execution_count": 31,
   "metadata": {},
   "outputs": [
    {
     "name": "stdout",
     "output_type": "stream",
     "text": [
      "782/782 [==============================] - 46s 58ms/step - loss: 0.3982 - accuracy: 0.8269\n"
     ]
    },
    {
     "data": {
      "text/plain": [
       "[0.3981826901435852, 0.8269199728965759]"
      ]
     },
     "execution_count": 31,
     "metadata": {},
     "output_type": "execute_result"
    }
   ],
   "source": [
    "# Определение доли верных ответов на тестовом наборе\n",
    "model.evaluate(x_test, y_test, verbose=1)"
   ]
  },
  {
   "cell_type": "code",
   "execution_count": 32,
   "metadata": {},
   "outputs": [],
   "source": [
    "# Оцениваем тональность на собственном отзыве"
   ]
  },
  {
   "cell_type": "code",
   "execution_count": 64,
   "metadata": {},
   "outputs": [],
   "source": [
    "text = \"\"\"\n",
    "bad\n",
    "\"\"\""
   ]
  },
  {
   "cell_type": "code",
   "execution_count": 65,
   "metadata": {},
   "outputs": [],
   "source": [
    "sequence = tokenizer.texts_to_sequences([text])"
   ]
  },
  {
   "cell_type": "code",
   "execution_count": 66,
   "metadata": {},
   "outputs": [],
   "source": [
    "data = pad_sequences(sequence, maxlen=max_news_len)"
   ]
  },
  {
   "cell_type": "code",
   "execution_count": 67,
   "metadata": {},
   "outputs": [
    {
     "data": {
      "text/plain": [
       "[0.4122226]"
      ]
     },
     "execution_count": 67,
     "metadata": {},
     "output_type": "execute_result"
    }
   ],
   "source": [
    "result = round(10 * list(model_binary.predict(data)[0])[0])\n",
    "if result < 1:\n",
    "    result = 1\n",
    "if result > 10:\n",
    "    result = 10\n",
    "list(model_binary.predict(data)[0])"
   ]
  },
  {
   "cell_type": "code",
   "execution_count": 68,
   "metadata": {},
   "outputs": [
    {
     "data": {
      "text/plain": [
       "4"
      ]
     },
     "execution_count": 68,
     "metadata": {},
     "output_type": "execute_result"
    }
   ],
   "source": [
    "result"
   ]
  },
  {
   "cell_type": "code",
   "execution_count": 69,
   "metadata": {},
   "outputs": [
    {
     "name": "stdout",
     "output_type": "stream",
     "text": [
      "Кол-во звезд отзыва 4\n"
     ]
    }
   ],
   "source": [
    "print('Кол-во звезд отзыва', result)"
   ]
  },
  {
   "cell_type": "code",
   "execution_count": 70,
   "metadata": {},
   "outputs": [
    {
     "name": "stdout",
     "output_type": "stream",
     "text": [
      "Отзыв отрицательный\n"
     ]
    }
   ],
   "source": [
    "if list(model_binary.predict(data)[0])[0] < 0.5:\n",
    "    print('Отзыв отрицательный')\n",
    "else:\n",
    "    print('Отзыв положительный')"
   ]
  }
 ],
 "metadata": {
  "kernelspec": {
   "display_name": "Python 3",
   "language": "python",
   "name": "python3"
  },
  "language_info": {
   "codemirror_mode": {
    "name": "ipython",
    "version": 3
   },
   "file_extension": ".py",
   "mimetype": "text/x-python",
   "name": "python",
   "nbconvert_exporter": "python",
   "pygments_lexer": "ipython3",
   "version": "3.7.8"
  }
 },
 "nbformat": 4,
 "nbformat_minor": 2
}
