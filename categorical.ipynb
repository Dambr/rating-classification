{
 "cells": [
  {
   "cell_type": "code",
   "execution_count": 15,
   "metadata": {
    "scrolled": true
   },
   "outputs": [],
   "source": [
    "from tensorflow.keras.models import Sequential\n",
    "from tensorflow.keras.layers import Dense, Embedding, MaxPooling1D, Conv1D, GlobalMaxPooling1D, Dropout, LSTM, GRU\n",
    "from tensorflow.keras import utils\n",
    "from tensorflow.keras.preprocessing.sequence import pad_sequences\n",
    "from tensorflow.keras.preprocessing.text import Tokenizer\n",
    "from tensorflow.keras.callbacks import ModelCheckpoint\n",
    "from tensorflow.keras import utils\n",
    "import pandas as pd\n",
    "import numpy as np\n",
    "import matplotlib.pyplot as plt\n",
    "from os import listdir\n",
    "from os import path\n",
    "import pickle"
   ]
  },
  {
   "cell_type": "code",
   "execution_count": 7,
   "metadata": {},
   "outputs": [],
   "source": [
    "# Максимальное количество слов \n",
    "num_words = 10000\n",
    "# Максимальная длина новости\n",
    "max_news_len = 100\n",
    "# Количество классов новостей\n",
    "nb_classes = 10"
   ]
  },
  {
   "cell_type": "code",
   "execution_count": 8,
   "metadata": {},
   "outputs": [],
   "source": [
    "def put_content(files, directory):\n",
    "    for file_name in files:\n",
    "        ids.append(int(file_name.replace(\".txt\", \"\").split(\"_\")[0]))\n",
    "        grades.append(int(file_name.replace(\".txt\", \"\").split(\"_\")[1]))\n",
    "        texts.append(open(path.join(directory, file_name), 'r').read())"
   ]
  },
  {
   "cell_type": "code",
   "execution_count": 9,
   "metadata": {},
   "outputs": [],
   "source": [
    "# Подготовка тренировочного набора\n",
    "ids = []\n",
    "grades = []\n",
    "texts = []\n",
    "\n",
    "train_neg_dir = \"aclImdb/train/neg\"\n",
    "train_pos_dir = \"aclImdb/train/pos\"\n",
    "\n",
    "train_neg_files = list(filter(lambda x: x.endswith('.txt'), listdir(train_neg_dir)))\n",
    "train_pos_files = list(filter(lambda x: x.endswith('.txt'), listdir(train_pos_dir)))\n",
    "\n",
    "put_content(train_neg_files, train_neg_dir)\n",
    "put_content(train_pos_files, train_pos_dir)\n",
    "\n",
    "train_df = pd.DataFrame({\n",
    "    'id': ids,\n",
    "    'grade': grades,\n",
    "    'text': texts\n",
    "})\n",
    "\n",
    "train_df = train_df.iloc[np.random.permutation(len(train_df))].reset_index(drop=True)"
   ]
  },
  {
   "cell_type": "code",
   "execution_count": 10,
   "metadata": {},
   "outputs": [],
   "source": [
    "# Подготовка тестового набора\n",
    "ids = []\n",
    "grades = []\n",
    "texts = []\n",
    "\n",
    "test_neg_dir = \"aclImdb/test/neg\"\n",
    "test_pos_dir = \"aclImdb/test/pos\"\n",
    "\n",
    "test_neg_files = list(filter(lambda x: x.endswith('.txt'), listdir(test_neg_dir)))\n",
    "test_pos_files = list(filter(lambda x: x.endswith('.txt'), listdir(test_pos_dir)))\n",
    "\n",
    "put_content(test_neg_files, test_neg_dir)\n",
    "put_content(test_pos_files, test_pos_dir)\n",
    "\n",
    "test_df = pd.DataFrame({\n",
    "    'id': ids,\n",
    "    'grade': grades,\n",
    "    'text': texts\n",
    "})\n",
    "\n",
    "test_df = test_df.iloc[np.random.permutation(len(test_df))].reset_index(drop=True)"
   ]
  },
  {
   "cell_type": "code",
   "execution_count": 13,
   "metadata": {},
   "outputs": [],
   "source": [
    "# Создание токенайзера\n",
    "tokenizer = Tokenizer(num_words=num_words)"
   ]
  },
  {
   "cell_type": "code",
   "execution_count": 58,
   "metadata": {},
   "outputs": [],
   "source": [
    "# Тренировка tokenizer\n",
    "tokenizer.fit_on_texts(train_df['text'])"
   ]
  },
  {
   "cell_type": "code",
   "execution_count": 16,
   "metadata": {},
   "outputs": [],
   "source": [
    "# Сохранение обученного tokenizer\n",
    "with open('tokenizer.pickle', 'wb') as handle:\n",
    "    pickle.dump(tokenizer, handle, protocol=pickle.HIGHEST_PROTOCOL)"
   ]
  },
  {
   "cell_type": "code",
   "execution_count": 17,
   "metadata": {},
   "outputs": [],
   "source": [
    "# Преобразование текста в последовательности чисел\n",
    "sequences = tokenizer.texts_to_sequences(train_df['text'])\n"
   ]
  },
  {
   "cell_type": "code",
   "execution_count": 20,
   "metadata": {},
   "outputs": [],
   "source": [
    "# Ограничить длину отзыва\n",
    "x_train = pad_sequences(sequences, maxlen=max_news_len)"
   ]
  },
  {
   "cell_type": "code",
   "execution_count": 15,
   "metadata": {},
   "outputs": [],
   "source": [
    "# Сверточная нейронная сеть"
   ]
  },
  {
   "cell_type": "code",
   "execution_count": 31,
   "metadata": {},
   "outputs": [],
   "source": [
    "# Создание самой модели\n",
    "model = Sequential()\n",
    "model.add(Embedding(num_words, 32, input_length=max_news_len))\n",
    "model.add(Conv1D(250, 5, padding='valid', activation='relu'))\n",
    "model.add(Conv1D(250, 5, padding='valid', activation='relu'))\n",
    "model.add(Conv1D(250, 5, padding='valid', activation='relu'))\n",
    "model.add(Conv1D(250, 5, padding='valid', activation='relu'))\n",
    "model.add(GlobalMaxPooling1D())\n",
    "model.add(Dense(128, activation='relu'))\n",
    "model.add(Dense(10, activation='softmax'))"
   ]
  },
  {
   "cell_type": "code",
   "execution_count": 32,
   "metadata": {},
   "outputs": [
    {
     "name": "stdout",
     "output_type": "stream",
     "text": [
      "Model: \"sequential_2\"\n",
      "_________________________________________________________________\n",
      "Layer (type)                 Output Shape              Param #   \n",
      "=================================================================\n",
      "embedding_2 (Embedding)      (None, 100, 32)           320000    \n",
      "_________________________________________________________________\n",
      "conv1d_8 (Conv1D)            (None, 96, 250)           40250     \n",
      "_________________________________________________________________\n",
      "conv1d_9 (Conv1D)            (None, 92, 250)           312750    \n",
      "_________________________________________________________________\n",
      "conv1d_10 (Conv1D)           (None, 88, 250)           312750    \n",
      "_________________________________________________________________\n",
      "conv1d_11 (Conv1D)           (None, 84, 250)           312750    \n",
      "_________________________________________________________________\n",
      "global_max_pooling1d_1 (Glob (None, 250)               0         \n",
      "_________________________________________________________________\n",
      "dense_2 (Dense)              (None, 128)               32128     \n",
      "_________________________________________________________________\n",
      "dense_3 (Dense)              (None, 10)                1290      \n",
      "=================================================================\n",
      "Total params: 1,331,918\n",
      "Trainable params: 1,331,918\n",
      "Non-trainable params: 0\n",
      "_________________________________________________________________\n"
     ]
    }
   ],
   "source": [
    "# Компиляция модели\n",
    "model.compile(optimizer='adam', \n",
    "              loss='categorical_crossentropy', \n",
    "              metrics=['accuracy'])\n",
    "model.summary()"
   ]
  },
  {
   "cell_type": "code",
   "execution_count": 33,
   "metadata": {},
   "outputs": [
    {
     "name": "stdout",
     "output_type": "stream",
     "text": [
      "INFO:tensorflow:Assets written to: model_categorical/assets\n"
     ]
    }
   ],
   "source": [
    "# Сохренение модели\n",
    "model.save('model_categorical')"
   ]
  },
  {
   "cell_type": "code",
   "execution_count": 34,
   "metadata": {},
   "outputs": [],
   "source": [
    "# Создаем callback для сохранения нейронной сети на каждой эпохе,\n",
    "    # если качество работы на проверочном наборе данных улучшилось.\n",
    "# Сеть сохраняется в файл best_model_categorical.h5\n",
    "model_save_path = 'best_model_categorical.h5'\n",
    "checkpoint_callback = ModelCheckpoint(model_save_path, \n",
    "                                      monitor='val_accuracy',\n",
    "                                      save_best_only=True,\n",
    "                                      verbose=1)"
   ]
  },
  {
   "cell_type": "code",
   "execution_count": 35,
   "metadata": {},
   "outputs": [],
   "source": [
    "# Правильные ответы\n",
    "y_train = utils.to_categorical(train_df['grade'] - 1, nb_classes)"
   ]
  },
  {
   "cell_type": "code",
   "execution_count": 36,
   "metadata": {},
   "outputs": [
    {
     "name": "stdout",
     "output_type": "stream",
     "text": [
      "Epoch 1/3\n",
      "176/176 [==============================] - ETA: 0s - loss: 1.9920 - accuracy: 0.2316\n",
      "Epoch 00001: val_accuracy improved from -inf to 0.31240, saving model to best_model_categorical.h5\n",
      "176/176 [==============================] - 156s 885ms/step - loss: 1.9920 - accuracy: 0.2316 - val_loss: 1.8330 - val_accuracy: 0.3124\n",
      "Epoch 2/3\n",
      "176/176 [==============================] - ETA: 0s - loss: 1.7074 - accuracy: 0.3455\n",
      "Epoch 00002: val_accuracy improved from 0.31240 to 0.35600, saving model to best_model_categorical.h5\n",
      "176/176 [==============================] - 153s 868ms/step - loss: 1.7074 - accuracy: 0.3455 - val_loss: 1.7049 - val_accuracy: 0.3560\n",
      "Epoch 3/3\n",
      "176/176 [==============================] - ETA: 0s - loss: 1.5065 - accuracy: 0.4079\n",
      "Epoch 00003: val_accuracy improved from 0.35600 to 0.36840, saving model to best_model_categorical.h5\n",
      "176/176 [==============================] - 151s 860ms/step - loss: 1.5065 - accuracy: 0.4079 - val_loss: 1.6288 - val_accuracy: 0.3684\n"
     ]
    }
   ],
   "source": [
    "history = model.fit(x_train, \n",
    "                            y_train, \n",
    "                            epochs=3,\n",
    "                            batch_size=128,\n",
    "                            validation_split=0.1,\n",
    "                            callbacks=[checkpoint_callback_cnn])"
   ]
  },
  {
   "cell_type": "code",
   "execution_count": 38,
   "metadata": {},
   "outputs": [
    {
     "data": {
      "image/png": "[encoded data removed]",
      "text/plain": [
       "<Figure size 432x288 with 1 Axes>"
      ]
     },
     "metadata": {
      "needs_background": "light"
     },
     "output_type": "display_data"
    }
   ],
   "source": [
    "plt.plot(history.history['accuracy'], \n",
    "         label='Доля верных ответов на обучающем наборе')\n",
    "plt.plot(history.history['val_accuracy'], \n",
    "         label='Доля верных ответов на проверочном наборе')\n",
    "plt.xlabel('Эпоха обучения')\n",
    "plt.ylabel('Доля верных ответов')\n",
    "plt.legend()\n",
    "plt.show()"
   ]
  },
  {
   "cell_type": "code",
   "execution_count": 39,
   "metadata": {},
   "outputs": [],
   "source": [
    "# Тестирование работы"
   ]
  },
  {
   "cell_type": "code",
   "execution_count": 40,
   "metadata": {},
   "outputs": [],
   "source": [
    "test_sequences = tokenizer.texts_to_sequences(test_df['text'])"
   ]
  },
  {
   "cell_type": "code",
   "execution_count": 41,
   "metadata": {},
   "outputs": [],
   "source": [
    "x_test = pad_sequences(test_sequences, maxlen=max_news_len)"
   ]
  },
  {
   "cell_type": "code",
   "execution_count": 43,
   "metadata": {},
   "outputs": [],
   "source": [
    "y_test = utils.to_categorical(test_df['grade'] - 1, nb_classes)"
   ]
  },
  {
   "cell_type": "code",
   "execution_count": 45,
   "metadata": {},
   "outputs": [],
   "source": [
    "# Качество Одномерная сверточная сеть"
   ]
  },
  {
   "cell_type": "code",
   "execution_count": 59,
   "metadata": {},
   "outputs": [],
   "source": [
    "from tensorflow import keras\n",
    "model_categorical = keras.models.load_model('model_categorical')\n",
    "model_categorical_save_path = 'best_model_categorical.h5'\n",
    "model_categorical.load_weights(model_categorical_save_path)"
   ]
  },
  {
   "cell_type": "code",
   "execution_count": 60,
   "metadata": {},
   "outputs": [
    {
     "name": "stdout",
     "output_type": "stream",
     "text": [
      "782/782 [==============================] - 45s 58ms/step - loss: 1.6310 - accuracy: 0.3748\n"
     ]
    },
    {
     "data": {
      "text/plain": [
       "[1.6310148239135742, 0.37483999133110046]"
      ]
     },
     "execution_count": 60,
     "metadata": {},
     "output_type": "execute_result"
    }
   ],
   "source": [
    "# Определение доли верных ответов на тестовом наборе\n",
    "model_cnn.evaluate(x_test, y_test, verbose=1)"
   ]
  },
  {
   "cell_type": "code",
   "execution_count": 61,
   "metadata": {},
   "outputs": [],
   "source": [
    "# Оцениваем тональность на собственном отзыве\n",
    "# Загрузка обученного tokenizer\n",
    "with open('tokenizer.pickle', 'rb') as handle:\n",
    "    tokenizer = pickle.load(handle)"
   ]
  },
  {
   "cell_type": "code",
   "execution_count": 62,
   "metadata": {},
   "outputs": [],
   "source": [
    "text = \"\"\"\n",
    "good\n",
    "\"\"\""
   ]
  },
  {
   "cell_type": "code",
   "execution_count": 63,
   "metadata": {},
   "outputs": [],
   "source": [
    "sequence = tokenizer.texts_to_sequences([text])"
   ]
  },
  {
   "cell_type": "code",
   "execution_count": 64,
   "metadata": {},
   "outputs": [],
   "source": [
    "data = pad_sequences(sequence, maxlen=max_news_len)"
   ]
  },
  {
   "cell_type": "code",
   "execution_count": 65,
   "metadata": {},
   "outputs": [],
   "source": [
    "result = list(model_cnn.predict(data)[0])"
   ]
  },
  {
   "cell_type": "code",
   "execution_count": 66,
   "metadata": {},
   "outputs": [
    {
     "name": "stdout",
     "output_type": "stream",
     "text": [
      "Кол-во звезд отзыва 8\n"
     ]
    }
   ],
   "source": [
    "print('Кол-во звезд отзыва', result.index(max(result)) + 1)"
   ]
  },
  {
   "cell_type": "code",
   "execution_count": 67,
   "metadata": {},
   "outputs": [
    {
     "name": "stdout",
     "output_type": "stream",
     "text": [
      "Отзыв положительный\n"
     ]
    }
   ],
   "source": [
    "if result.index(max(result)) < 5:\n",
    "    print('Отзыв отрицательный')\n",
    "else:\n",
    "    print('Отзыв положительный')"
   ]
  }
 ],
 "metadata": {
  "kernelspec": {
   "display_name": "Python 3",
   "language": "python",
   "name": "python3"
  },
  "language_info": {
   "codemirror_mode": {
    "name": "ipython",
    "version": 3
   },
   "file_extension": ".py",
   "mimetype": "text/x-python",
   "name": "python",
   "nbconvert_exporter": "python",
   "pygments_lexer": "ipython3",
   "version": "3.7.8"
  }
 },
 "nbformat": 4,
 "nbformat_minor": 2
}
